{
  "nbformat": 4,
  "nbformat_minor": 0,
  "metadata": {
    "colab": {
      "provenance": [],
      "authorship_tag": "ABX9TyMJPGWwK59XzVWoVOL/TPpn",
      "include_colab_link": true
    },
    "kernelspec": {
      "name": "python3",
      "display_name": "Python 3"
    },
    "language_info": {
      "name": "python"
    }
  },
  "cells": [
    {
      "cell_type": "markdown",
      "metadata": {
        "id": "view-in-github",
        "colab_type": "text"
      },
      "source": [
        "<a href=\"https://colab.research.google.com/github/linhsuan519/titanic-analysis/blob/main/%E5%AF%A6%E4%BD%9C%E5%B0%88%E9%A1%8C_01_%E9%90%B5%E9%81%94%E5%B0%BC%E8%99%9F%E5%AD%98%E6%B4%BB%E9%A0%90%E6%B8%AC.ipynb\" target=\"_parent\"><img src=\"https://colab.research.google.com/assets/colab-badge.svg\" alt=\"Open In Colab\"/></a>"
      ]
    },
    {
      "cell_type": "markdown",
      "source": [
        "#專題實作#01:鐵達尼號存活預測"
      ],
      "metadata": {
        "id": "l9XgZBLPhFkm"
      }
    },
    {
      "cell_type": "markdown",
      "source": [
        "#環境準備"
      ],
      "metadata": {
        "id": "taKLkefjhUGp"
      }
    },
    {
      "cell_type": "code",
      "execution_count": 10,
      "metadata": {
        "id": "Wmsbdf2vgwuy"
      },
      "outputs": [],
      "source": [
        "import pandas as pd\n",
        "import numpy as np\n",
        "import seaborn as sns\n",
        "import matplotlib.pyplot as plt\n",
        "from sklearn.ensemble import RandomForestClassifier\n",
        "from sklearn.preprocessing import OneHotEncoder"
      ]
    },
    {
      "cell_type": "markdown",
      "source": [
        "#載入資料與認識資料"
      ],
      "metadata": {
        "id": "twpWHFg8jlDL"
      }
    },
    {
      "cell_type": "code",
      "source": [
        "# 1.在你的 Colab 程式碼中載入 Titanic 資料集的 `train.csv` 資料集，可以參考這一篇 教學 中的網址或上傳方法。\n",
        "#（資料網址：https://raw.githubusercontent.com/dsindy/kaggle-titanic/master/data/train.csv）\n",
        "df = pd.read_csv('https://raw.githubusercontent.com/dsindy/kaggle-titanic/master/data/train.csv')\n",
        "display(df)\n",
        "\n",
        "df['Sex'] = df['Sex'].replace({'male': 0, 'female': 1}) #性別傳換數值\n",
        "\n",
        "# 2.請根據 Kaggle 文件瞭解 Titanic 資料中所有欄位的定義為何？\n",
        "\n",
        "#\tPassengerId:   乘客編號\n",
        "# survival:     是否生存 0:死亡 1:生存\n",
        "# pclass:      船票艙位 1:頭等艙 2:商務艙 3:經濟艙\n",
        "# sex:       性別\n",
        "# Age:       年齡\n",
        "# sibsp:      兄弟姊妹或配偶上船的數量\n",
        "# parch:      父母或小孩上船的數量\n",
        "# ticket:      船票編號\n",
        "# fare:       票價\n",
        "# cabin:      艙位編號\n",
        "# embarked:    上船港口 C = Cherbourg, Q = Queenstown, S = Southampton。\n",
        "\n",
        "# 3.進一步觀察每一個欄位「數值欄位/類別欄位」與「是否生存欄位」之關係程度，找出關係大的欄位。\n",
        "\n",
        "# Selecting numerical features\n",
        "numerical_features = [\"Pclass\", \"Age\", \"SibSp\", \"Parch\", \"Fare\", \"Sex\"]\n",
        "\n",
        "# Calculating the correlation matrix between numerical features and 'Survived'\n",
        "correlation_matrix = df[numerical_features + [\"Survived\"]].corr()\n",
        "\n",
        "# Plotting the heatmap\n",
        "plt.figure(figsize=(10, 7))\n",
        "sns.heatmap(correlation_matrix, annot=True, cmap=\"coolwarm\")\n",
        "plt.title(\"Correlation Heatmap Between Numerical Features and Survival\")\n",
        "plt.show()\n",
        "\n",
        "#熱力圖展示了數值欄位與「是否生存」之間的相關性。\n"
      ],
      "metadata": {
        "id": "tcGJNX7WjlVz"
      },
      "execution_count": null,
      "outputs": []
    },
    {
      "cell_type": "markdown",
      "source": [
        "4.承上題，請問你是如何定義與解讀什麼稱為「關係大」呢？\n",
        "Pclass（船票等級）與生存有明顯的負相關   越有錢的客人可能會得到更多的關注和優待(1最貴)\n",
        "Sex(性別)     與生存有正相關      女性較容易受到保護(女生:1 男生:0)\n",
        "Fare（船票價格） 與生存有正相關      這可能反映了付出更多的乘客享受更好的待遇"
      ],
      "metadata": {
        "id": "IlR_5dxnvBPC"
      }
    }
  ]
}